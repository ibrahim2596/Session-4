{
 "cells": [
  {
   "cell_type": "code",
   "execution_count": null,
   "metadata": {},
   "outputs": [],
   "source": [
    "#Write a function is_prime(n) that checks if a given number is prime. \n",
    "def is_prime(n):\n",
    "    if n > 1:\n",
    "        for num in range(2,n):\n",
    "            if n % num == 0:\n",
    "                return \"composite number\"\n",
    "        return \"Prime Number\"\n",
    "    else:\n",
    "        \"composite number\"\n",
    "print(is_prime(10))\n",
    "print(is_prime(11))"
   ]
  },
  {
   "cell_type": "code",
   "execution_count": 1,
   "metadata": {},
   "outputs": [
    {
     "name": "stdout",
     "output_type": "stream",
     "text": [
      "division by zero\n"
     ]
    }
   ],
   "source": [
    "# Write a function calculator(a, b, operation) that takes two numbers and a string \n",
    "#(\"add\", \"subtract\", \"multiply\", or \"divide\") and performs the respective operation. \n",
    "def calculator(a,b , operation):\n",
    "    if operation == \"add\" or operation == \"+\":\n",
    "        return a + b\n",
    "    elif operation == \"subtract\" or operation == \"-\":\n",
    "        return a - b\n",
    "    elif operation == \"multiply\" or operation == \"*\":\n",
    "        return a * b\n",
    "    elif operation == \"divide\" or operation == \"/\":\n",
    "        if b == 0 :\n",
    "            return \"division by zero\"\n",
    "        return a / b\n",
    "    else: \n",
    "       return \"out of respective operation\"\n",
    "print (calculator(5,0,\"/\"))\n",
    "    "
   ]
  },
  {
   "cell_type": "code",
   "execution_count": null,
   "metadata": {},
   "outputs": [],
   "source": [
    "def Opreation(x,y):\n",
    "    add = x + y\n",
    "    subtract = x - y\n",
    "    multiply = x * y\n",
    "    divide = x / y\n",
    "    return add , subtract , multiply ,divide\n",
    "print (Opreation(20,10))"
   ]
  }
 ],
 "metadata": {
  "kernelspec": {
   "display_name": "Python 3",
   "language": "python",
   "name": "python3"
  },
  "language_info": {
   "codemirror_mode": {
    "name": "ipython",
    "version": 3
   },
   "file_extension": ".py",
   "mimetype": "text/x-python",
   "name": "python",
   "nbconvert_exporter": "python",
   "pygments_lexer": "ipython3",
   "version": "3.13.1"
  }
 },
 "nbformat": 4,
 "nbformat_minor": 2
}
